{
 "cells": [
  {
   "cell_type": "markdown",
   "metadata": {},
   "source": [
    "# Assigment 1"
   ]
  },
  {
   "cell_type": "markdown",
   "metadata": {},
   "source": [
    "**Table of contents**<a id='toc0_'></a>    \n",
    "- 1. [Setup](#toc1_)    \n",
    "- 2. [Find stationary equilibrium](#toc2_)    \n",
    "- 3. [Vary productivity](#toc3_)    \n",
    "- 4. [Transition path](#toc4_)    \n",
    "  - 4.1. [Prepare](#toc4_1_)    \n",
    "  - 4.2. [Find transition path](#toc4_2_)    \n",
    "  - 4.3. [Analyze](#toc4_3_)    \n",
    "- 5. [Extra: Optimal policy](#toc5_)    \n",
    "\n",
    "<!-- vscode-jupyter-toc-config\n",
    "\tnumbering=true\n",
    "\tanchor=true\n",
    "\tflat=false\n",
    "\tminLevel=2\n",
    "\tmaxLevel=6\n",
    "\t/vscode-jupyter-toc-config -->\n",
    "<!-- THIS CELL WILL BE REPLACED ON TOC UPDATE. DO NOT WRITE YOUR TEXT IN THIS CELL -->"
   ]
  },
  {
   "cell_type": "code",
   "execution_count": 1,
   "metadata": {},
   "outputs": [],
   "source": [
    "%load_ext autoreload\n",
    "%autoreload 2\n",
    "\n",
    "import time\n",
    "import pickle\n",
    "import numpy as np\n",
    "from scipy import optimize\n",
    "\n",
    "import matplotlib.pyplot as plt   \n",
    "colors = plt.rcParams['axes.prop_cycle'].by_key()['color']\n",
    "plt.rcParams.update({\"axes.grid\" : True, \"grid.color\": \"black\", \"grid.alpha\":\"0.25\", \"grid.linestyle\": \"--\"})\n",
    "plt.rcParams.update({'font.size': 14})\n",
    "\n",
    "from HANCModel import HANCModelClass"
   ]
  },
  {
   "cell_type": "markdown",
   "metadata": {},
   "source": [
    "## 1. <a id='toc1_'></a>[Setup](#toc0_)"
   ]
  },
  {
   "cell_type": "code",
   "execution_count": 2,
   "metadata": {},
   "outputs": [],
   "source": [
    "model = HANCModelClass(name='baseline')"
   ]
  },
  {
   "cell_type": "code",
   "execution_count": 3,
   "metadata": {},
   "outputs": [],
   "source": [
    "par = model.par\n",
    "ss = model.ss"
   ]
  },
  {
   "cell_type": "markdown",
   "metadata": {},
   "source": [
    "## 2. <a id='toc2_'></a>[Find stationary equilibrium](#toc0_)"
   ]
  },
  {
   "cell_type": "markdown",
   "metadata": {},
   "source": [
    "Test household problem:"
   ]
  },
  {
   "cell_type": "code",
   "execution_count": 4,
   "metadata": {},
   "outputs": [],
   "source": [
    "model.ss.w0 = 1.0\n",
    "model.ss.w1 = 1.0\n",
    "model.ss.rK = 0.01\n",
    "model.ss.phi0 = 1.0\n",
    "model.ss.phi1 = 2.0\n",
    "\n",
    "#model.solve_hh_ss(do_print=True)\n",
    "#model.simulate_hh_ss(do_print=True)"
   ]
  },
  {
   "cell_type": "code",
   "execution_count": 5,
   "metadata": {},
   "outputs": [
    {
     "name": "stdout",
     "output_type": "stream",
     "text": []
    }
   ],
   "source": [
    "model.solve_hh_ss(do_print=True)\n",
    "model.simulate_hh_ss(do_print=True)"
   ]
  },
  {
   "cell_type": "code",
   "execution_count": null,
   "metadata": {},
   "outputs": [],
   "source": [
    "for i_beta,beta in enumerate(par.beta_grid[:len(par.beta_grid)//2]):\n",
    "    \n",
    "    fig = plt.figure(figsize=(12,4),dpi=100)\n",
    "\n",
    "    I = par.a_grid < 500\n",
    "\n",
    "    # a. consumption\n",
    "    ax = fig.add_subplot(1,2,1)\n",
    "    ax.set_title(f'consumption ($\\\\beta = {beta:.4f}$)')\n",
    "\n",
    "    for i_z,z in enumerate(par.z_grid):\n",
    "        if i_z%3 == 0 or i_z == par.Nz-1:\n",
    "            ax.plot(par.a_grid[I],ss.c[i_beta,i_z,I],label=f'z = {z:.2f}')\n",
    "\n",
    "    ax.legend(frameon=True)\n",
    "    ax.set_xlabel('savings, $a_{t-1}$')\n",
    "    ax.set_ylabel('consumption, $c_t$')\n",
    "    ax.set_xlim(0,100)\n",
    "    ax.set_ylim(0,5)\n",
    "\n",
    "    # b. saving\n",
    "    ax = fig.add_subplot(1,2,2)\n",
    "    ax.set_title(f'saving ($\\\\beta = {beta:.4f}$)')\n",
    "\n",
    "    for i_z,z in enumerate(par.z_grid):\n",
    "        if i_z%3 == 0 or i_z == par.Nz-1:\n",
    "            ax.plot(par.a_grid[I],ss.a[i_beta,i_z,I]-par.a_grid[I],label=f'z = {z:.2f}')\n",
    "\n",
    "    ax.set_xlabel('savings, $a_{t-1}$')\n",
    "    ax.set_ylabel('savings change, $a_{t}-a_{t-1}$')\n",
    "    ax.set_xlim(0,100)\n",
    "    ax.set_ylim(-3,1)\n",
    "\n",
    "    fig.tight_layout()\n",
    "    #fig.savefig(f'figs/c_func_{i_beta}.pdf')"
   ]
  },
  {
   "cell_type": "markdown",
   "metadata": {},
   "source": [
    "Find stationary equilibrium:"
   ]
  },
  {
   "cell_type": "code",
   "execution_count": null,
   "metadata": {},
   "outputs": [
    {
     "name": "stdout",
     "output_type": "stream",
     "text": [
      "### step 1: broad search ###\n",
      "\n",
      "guess ss.K = 1.0000\n",
      "implied ss.rK = 0.2777\n",
      "implied ss.w0 = 0.3703\n",
      "implied ss.w1 = 0.3703\n",
      "household problem in ss solved in 0.4 secs [447 iterations]\n",
      "household problem in ss simulated in 0.0 secs [413 iterations]\n",
      "implied ss.A_hh = 186.1454\n",
      "clearing_A = -185.14536146\n",
      "\n",
      "guess ss.K = 2.0000\n",
      "implied ss.rK = 0.1782\n",
      "implied ss.w0 = 0.4752\n",
      "implied ss.w1 = 0.4752\n",
      "household problem in ss solved in 1.2 secs [1371 iterations]\n",
      "household problem in ss simulated in 0.1 secs [518 iterations]\n",
      "implied ss.A_hh = 238.6204\n",
      "clearing_A = -236.62035171\n",
      "\n",
      "guess ss.K = 3.0000\n",
      "implied ss.rK = 0.1375\n",
      "implied ss.w0 = 0.5499\n",
      "implied ss.w1 = 0.5499\n",
      "household problem in ss solved in 33.4 secs [40197 iterations]\n",
      "household problem in ss simulated in 0.1 secs [592 iterations]\n",
      "implied ss.A_hh = 275.9644\n",
      "clearing_A = -272.96441191\n",
      "\n",
      "guess ss.K = 4.0000\n",
      "implied ss.rK = 0.1144\n",
      "implied ss.w0 = 0.6099\n",
      "implied ss.w1 = 0.6099\n",
      "household problem in ss solved in 3.4 secs [4130 iterations]\n",
      "household problem in ss simulated in 0.2 secs [2942 iterations]\n",
      "implied ss.A_hh = 7.7973\n",
      "clearing_A =  -3.79725556\n",
      "\n",
      "guess ss.K = 5.0000\n",
      "implied ss.rK = 0.0991\n",
      "implied ss.w0 = 0.6610\n",
      "implied ss.w1 = 0.6610\n",
      "household problem in ss solved in 0.4 secs [541 iterations]\n",
      "household problem in ss simulated in 0.0 secs [430 iterations]\n",
      "implied ss.A_hh = 0.6508\n",
      "clearing_A =   4.34919159\n",
      "\n",
      "guess ss.K = 6.0000\n",
      "implied ss.rK = 0.0882\n",
      "implied ss.w0 = 0.7058\n",
      "implied ss.w1 = 0.7058\n",
      "household problem in ss solved in 0.3 secs [355 iterations]\n",
      "household problem in ss simulated in 0.0 secs [273 iterations]\n",
      "implied ss.A_hh = 0.2196\n",
      "clearing_A =   5.78043511\n",
      "\n",
      "guess ss.K = 7.0000\n",
      "implied ss.rK = 0.0799\n",
      "implied ss.w0 = 0.7461\n",
      "implied ss.w1 = 0.7461\n",
      "household problem in ss solved in 0.2 secs [280 iterations]\n",
      "household problem in ss simulated in 0.0 secs [207 iterations]\n",
      "implied ss.A_hh = 0.0974\n",
      "clearing_A =   6.90264637\n",
      "\n",
      "guess ss.K = 8.0000\n",
      "implied ss.rK = 0.0734\n",
      "implied ss.w0 = 0.7828\n",
      "implied ss.w1 = 0.7828\n",
      "household problem in ss solved in 0.2 secs [240 iterations]\n",
      "household problem in ss simulated in 0.0 secs [171 iterations]\n",
      "implied ss.A_hh = 0.0501\n",
      "clearing_A =   7.94985211\n",
      "\n",
      "guess ss.K = 9.0000\n",
      "implied ss.rK = 0.0681\n",
      "implied ss.w0 = 0.8167\n",
      "implied ss.w1 = 0.8167\n",
      "household problem in ss solved in 0.2 secs [215 iterations]\n",
      "household problem in ss simulated in 0.0 secs [148 iterations]\n",
      "implied ss.A_hh = 0.0287\n",
      "clearing_A =   8.97133630\n",
      "\n",
      "guess ss.K = 10.0000\n",
      "implied ss.rK = 0.0636\n",
      "implied ss.w0 = 0.8483\n",
      "implied ss.w1 = 0.8483\n",
      "household problem in ss solved in 0.2 secs [196 iterations]\n",
      "household problem in ss simulated in 0.0 secs [130 iterations]\n",
      "implied ss.A_hh = 0.0178\n",
      "clearing_A =   9.98223249\n",
      "\n",
      "### step 2: determine search bracket ###\n",
      "\n",
      "K in [  4.00000000,  5.00000000]\n",
      "\n",
      "### step 3: search ###\n",
      "\n",
      "  0: K_ss =   4.46612413 -> A-A_hh =   2.95638482\n",
      "  1: K_ss =   4.26207976 -> A-A_hh =   1.87626861\n",
      "  2: K_ss =   4.13103988 -> A-A_hh =   0.53916884\n",
      "  3: K_ss =   4.09028611 -> A-A_hh =  -0.16715401\n",
      "  4: K_ss =   4.09993065 -> A-A_hh =   0.02268818\n",
      "  5: K_ss =   4.09877802 -> A-A_hh =   0.00086800\n",
      "  6: K_ss =   4.09873241 -> A-A_hh =  -0.00000016\n",
      "  7: K_ss =   4.09873242 -> A-A_hh =   0.00000000\n",
      "  8: K_ss =   4.09873242 -> A-A_hh =  -0.00000000\n",
      "\n",
      "K_ss =   4.09873242 [A-A_hh =  -0.00000000]\n",
      "\n",
      "found steady state in 1.0 mins 0 secs\n"
     ]
    }
   ],
   "source": [
    "model.find_ss(method='direct',do_print=True)"
   ]
  },
  {
   "cell_type": "code",
   "execution_count": null,
   "metadata": {},
   "outputs": [
    {
     "name": "stdout",
     "output_type": "stream",
     "text": [
      "Gamma          : 1.0000\n",
      "K              : 4.0987\n",
      "L0             : 0.6667\n",
      "L1             : 0.6667\n",
      "rK             : 0.1126\n",
      "w0             : 0.6153\n",
      "w1             : 0.6153\n",
      "Y              : 1.2819\n",
      "phi0           : 1.0000\n",
      "phi1           : 2.0000\n",
      "A_hh           : 4.0987\n",
      "C_hh           : 1.0000\n",
      "L_hh           : 1.5000\n",
      "A              : 4.0987\n",
      "L0_hh          : nan\n",
      "L1_hh          : nan\n",
      "L              : 1.3333\n",
      "I              : 0.4099\n",
      "clearing_A     : -0.0000\n",
      "clearing_L0    : nan\n",
      "clearing_L1    : nan\n",
      "clearing_L     : -0.1667\n",
      "clearing_Y     : -0.1280\n"
     ]
    }
   ],
   "source": [
    "for varname in model.varlist:\n",
    "    print(f'{varname:15s}: {ss.__dict__[varname]:.4f}')"
   ]
  },
  {
   "cell_type": "code",
   "execution_count": null,
   "metadata": {},
   "outputs": [
    {
     "name": "stdout",
     "output_type": "stream",
     "text": [
      "settings:\n",
      " par.py_hh = True\n",
      " par.py_block = True\n",
      " par.full_z_trans = False\n",
      " par.T = 500\n",
      "\n",
      "households:\n",
      " grids_hh: [a]\n",
      " pols_hh: [a]\n",
      " inputs_hh: [rK,w0,w1,phi0,phi1]\n",
      " inputs_hh_z: []\n",
      " outputs_hh: [a,c,l]\n",
      " intertemps_hh: [vbeg_a]\n",
      "\n",
      "aggregate:\n",
      " shocks: [phi1]\n",
      " unknowns: [K]\n",
      " targets: [clearing_A]\n",
      "\n",
      "blocks (inputs -> outputs):\n",
      " production_firm: [K] -> [Gamma,L0,L1,rK,w0,w1,Y]\n",
      " hh: [phi1,rK,w0,w1] -> [phi0,A_hh,C_hh,L_hh]\n",
      " market_clearing: [A_hh,L0,L1,L_hh,Y,C_hh,K] -> [A,L0_hh,L1_hh,L,I,clearing_A,clearing_L0,clearing_L1,clearing_L,clearing_Y]\n"
     ]
    }
   ],
   "source": [
    "model.info()"
   ]
  },
  {
   "cell_type": "code",
   "execution_count": null,
   "metadata": {},
   "outputs": [],
   "source": [
    "fig = plt.figure(figsize=(12,4),dpi=100)\n",
    "\n",
    "# b. assets\n",
    "ax = fig.add_subplot(1,2,2)\n",
    "ax.set_title('savings')\n",
    "for i_beta in range(par.Nfix):\n",
    "    ax.plot(np.insert(par.a_grid,0,par.a_grid[0]),np.insert(np.cumsum(np.sum(ss.D[i_beta],axis=0)),0,0.0)*par.Nfix,label=f'$\\\\beta = {par.beta_grid[i_beta]:.4f}, \\\\chi = {par.eta1_grid[i_beta]:.0f}$')\n",
    "ax.set_xlabel('assets, $a_{t}$')\n",
    "ax.set_ylabel('CDF')\n",
    "ax.legend()\n",
    "fig.tight_layout()"
   ]
  },
  {
   "cell_type": "markdown",
   "metadata": {},
   "source": [
    "## 3. <a id='toc3_'></a>[Varying productivity](#toc0_)"
   ]
  },
  {
   "cell_type": "markdown",
   "metadata": {},
   "source": [
    "## 4. <a id='toc4_'></a>[Transition path](#toc0_)"
   ]
  },
  {
   "cell_type": "code",
   "execution_count": null,
   "metadata": {},
   "outputs": [],
   "source": [
    "model.info(only_blocks=True)\n",
    "model.draw_DAG(figsize=(10,10))"
   ]
  },
  {
   "cell_type": "markdown",
   "metadata": {},
   "source": [
    "### 4.1. <a id='toc4_1_'></a>[Prepare](#toc0_)"
   ]
  },
  {
   "cell_type": "code",
   "execution_count": null,
   "metadata": {},
   "outputs": [],
   "source": [
    "model.test_hh_path()"
   ]
  },
  {
   "cell_type": "code",
   "execution_count": null,
   "metadata": {},
   "outputs": [],
   "source": [
    "model.test_path()"
   ]
  },
  {
   "cell_type": "markdown",
   "metadata": {},
   "source": [
    "**Jacobians:**"
   ]
  },
  {
   "cell_type": "code",
   "execution_count": null,
   "metadata": {},
   "outputs": [],
   "source": [
    "model.compute_jacs()"
   ]
  },
  {
   "cell_type": "markdown",
   "metadata": {},
   "source": [
    "**Higher bond price:** Always less savings due to lower return.\n",
    "\n",
    "**Higher tax rate:**\n",
    "\n",
    "1. Lower savings when in effect due to lower income\n",
    "2. Higher savings when expected due to lower *future* income"
   ]
  },
  {
   "cell_type": "code",
   "execution_count": null,
   "metadata": {},
   "outputs": [],
   "source": [
    "fig = plt.figure(figsize=(12,len(model.inputs_hh_all)*4),dpi=100)\n",
    "\n",
    "i = 0\n",
    "for varname in model.inputs_hh:\n",
    "    \n",
    "    # a. savings\n",
    "    i += 1    \n",
    "    ax = fig.add_subplot(len(model.inputs_hh_all),2,i)\n",
    "    ax.set_title(f'savings, $a_t$, to {varname}')\n",
    "    for s in [0,50,150,250]:\n",
    "        jac_hh_var = model.jac_hh[('A_hh',varname)]\n",
    "        ax.plot(np.arange(par.T),jac_hh_var[:,s],label=f'shock at {s}')\n",
    "    \n",
    "    if i == 1:\n",
    "        ax.legend(frameon=True,bbox_to_anchor=(2.75,0.0))\n",
    "\n",
    "    # b. consumption\n",
    "    i += 1    \n",
    "    ax = fig.add_subplot(len(model.inputs_hh_all),2,i)\n",
    "    ax.set_title(f'consumption, $c_t$, to {varname}')\n",
    "    for s in [0,50,150,250]:\n",
    "        jac_hh_var = model.jac_hh[('C_hh',varname)]\n",
    "        ax.plot(np.arange(par.T),jac_hh_var[:,s],label=f'shock at {s}')"
   ]
  },
  {
   "cell_type": "markdown",
   "metadata": {},
   "source": [
    "### 4.2. <a id='toc4_2_'></a>[Find transition path](#toc0_)"
   ]
  },
  {
   "cell_type": "code",
   "execution_count": null,
   "metadata": {},
   "outputs": [],
   "source": [
    "jump = ss.G*0.01\n",
    "rho = 0.95\n",
    "dG = jump*rho**np.arange(par.T)"
   ]
  },
  {
   "cell_type": "code",
   "execution_count": null,
   "metadata": {},
   "outputs": [],
   "source": [
    "model.find_transition_path(shocks={'dG':dG},do_print=True) #important you can only call a variable defined as shock already\n",
    "path = model.path"
   ]
  },
  {
   "cell_type": "markdown",
   "metadata": {},
   "source": [
    "### 4.3. <a id='toc4_3_'></a>[Analyze](#toc0_)"
   ]
  },
  {
   "cell_type": "markdown",
   "metadata": {},
   "source": [
    "The government issues more bonds. Bond price fall and tax increases. Average utility falls."
   ]
  },
  {
   "cell_type": "markdown",
   "metadata": {},
   "source": [
    "Expected discounted utility falls."
   ]
  },
  {
   "cell_type": "markdown",
   "metadata": {},
   "source": [
    "Initially savings increase both due to taxes (less future income) and higher return (lower bond price). Lower taxes reduce savings."
   ]
  },
  {
   "cell_type": "markdown",
   "metadata": {},
   "source": [
    "Consumption inequality decreases. But small effect relative to the lower mean."
   ]
  },
  {
   "cell_type": "markdown",
   "metadata": {},
   "source": [
    "**Questions:** Will a utiliarian planner always set the tax rate so it maximizes steady state social welfare?"
   ]
  },
  {
   "cell_type": "markdown",
   "metadata": {},
   "source": [
    "If the initial tax rate is low, the transition is beneficial. Social welfare increases.\n",
    "\n",
    "If the initial tax rate is high, the transition is not beneficial. Social welfare increase.\n",
    "\n",
    "**Insight:** Optimal policy needs to account for the transition.\n",
    "\n",
    "**Questions:** Could there ne another transition, which makes the policy beneficial?\n"
   ]
  }
 ],
 "metadata": {
  "kernelspec": {
   "display_name": "Python 3 (ipykernel)",
   "language": "python",
   "name": "python3"
  },
  "language_info": {
   "codemirror_mode": {
    "name": "ipython",
    "version": 3
   },
   "file_extension": ".py",
   "mimetype": "text/x-python",
   "name": "python",
   "nbconvert_exporter": "python",
   "pygments_lexer": "ipython3",
   "version": "3.11.5"
  },
  "toc-autonumbering": true
 },
 "nbformat": 4,
 "nbformat_minor": 4
}
