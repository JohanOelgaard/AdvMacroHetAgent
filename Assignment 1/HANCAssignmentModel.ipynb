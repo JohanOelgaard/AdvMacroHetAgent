{
 "cells": [
  {
   "cell_type": "markdown",
   "metadata": {},
   "source": [
    "# Assigment 1"
   ]
  },
  {
   "cell_type": "markdown",
   "metadata": {},
   "source": [
    "**Table of contents**<a id='toc0_'></a>    \n",
    "- 1. [Setup](#toc1_)    \n",
    "- 2. [Find stationary equilibrium](#toc2_)    \n",
    "- 3. [Vary tax rate](#toc3_)    \n",
    "- 4. [Transition path](#toc4_)    \n",
    "  - 4.1. [Prepare](#toc4_1_)    \n",
    "  - 4.2. [Find transition path](#toc4_2_)    \n",
    "  - 4.3. [Analyze](#toc4_3_)    \n",
    "- 5. [Extra: Optimal policy](#toc5_)    \n",
    "\n",
    "<!-- vscode-jupyter-toc-config\n",
    "\tnumbering=true\n",
    "\tanchor=true\n",
    "\tflat=false\n",
    "\tminLevel=2\n",
    "\tmaxLevel=6\n",
    "\t/vscode-jupyter-toc-config -->\n",
    "<!-- THIS CELL WILL BE REPLACED ON TOC UPDATE. DO NOT WRITE YOUR TEXT IN THIS CELL -->"
   ]
  },
  {
   "cell_type": "code",
   "execution_count": 1,
   "metadata": {},
   "outputs": [],
   "source": [
    "%load_ext autoreload\n",
    "%autoreload 2\n",
    "\n",
    "import time\n",
    "import pickle\n",
    "import numpy as np\n",
    "from scipy import optimize\n",
    "\n",
    "import matplotlib.pyplot as plt   \n",
    "colors = plt.rcParams['axes.prop_cycle'].by_key()['color']\n",
    "plt.rcParams.update({\"axes.grid\" : True, \"grid.color\": \"black\", \"grid.alpha\":\"0.25\", \"grid.linestyle\": \"--\"})\n",
    "plt.rcParams.update({'font.size': 14})\n",
    "\n",
    "from HANCAssignmentModel import HANCModelClass"
   ]
  },
  {
   "cell_type": "markdown",
   "metadata": {},
   "source": [
    "## 1. <a id='toc1_'></a>[Setup](#toc0_)"
   ]
  },
  {
   "cell_type": "code",
   "execution_count": 2,
   "metadata": {},
   "outputs": [],
   "source": [
    "model = HANCModelClass(name='baseline')"
   ]
  },
  {
   "cell_type": "code",
   "execution_count": 3,
   "metadata": {},
   "outputs": [],
   "source": [
    "par = model.par\n",
    "ss = model.ss"
   ]
  },
  {
   "cell_type": "markdown",
   "metadata": {},
   "source": [
    "## 2. <a id='toc2_'></a>[Find stationary equilibrium](#toc0_)"
   ]
  },
  {
   "cell_type": "markdown",
   "metadata": {},
   "source": [
    "Test household problem:"
   ]
  },
  {
   "cell_type": "code",
   "execution_count": 4,
   "metadata": {},
   "outputs": [],
   "source": [
    "model.ss.w0 = 1.0\n",
    "model.ss.w1 = 1.0\n",
    "model.ss.rK = 0.01\n",
    "model.ss.phi0 = 1.0\n",
    "model.ss.phi1 = 2.0\n",
    "\n",
    "#model.solve_hh_ss(do_print=True)\n",
    "#model.simulate_hh_ss(do_print=True)"
   ]
  },
  {
   "cell_type": "code",
   "execution_count": 5,
   "metadata": {},
   "outputs": [
    {
     "name": "stdout",
     "output_type": "stream",
     "text": [
      "household problem in ss solved in 0.1 secs [71 iterations]\n",
      "household problem in ss simulated in 1.0 secs [2 iterations]\n"
     ]
    }
   ],
   "source": [
    "model.solve_hh_ss(do_print=True)\n",
    "model.simulate_hh_ss(do_print=True)"
   ]
  },
  {
   "cell_type": "code",
   "execution_count": null,
   "metadata": {},
   "outputs": [],
   "source": [
    "for i_beta,beta in enumerate(par.beta_grid[:len(par.beta_grid)//2]):\n",
    "    \n",
    "    fig = plt.figure(figsize=(12,4),dpi=100)\n",
    "\n",
    "    I = par.a_grid < 500\n",
    "\n",
    "    # a. consumption\n",
    "    ax = fig.add_subplot(1,2,1)\n",
    "    ax.set_title(f'consumption ($\\\\beta = {beta:.4f}$)')\n",
    "\n",
    "    for i_z,z in enumerate(par.z_grid):\n",
    "        if i_z%3 == 0 or i_z == par.Nz-1:\n",
    "            ax.plot(par.a_grid[I],ss.c[i_beta,i_z,I],label=f'z = {z:.2f}')\n",
    "\n",
    "    ax.legend(frameon=True)\n",
    "    ax.set_xlabel('savings, $a_{t-1}$')\n",
    "    ax.set_ylabel('consumption, $c_t$')\n",
    "    ax.set_xlim(0,100)\n",
    "    ax.set_ylim(0,5)\n",
    "\n",
    "    # b. saving\n",
    "    ax = fig.add_subplot(1,2,2)\n",
    "    ax.set_title(f'saving ($\\\\beta = {beta:.4f}$)')\n",
    "\n",
    "    for i_z,z in enumerate(par.z_grid):\n",
    "        if i_z%3 == 0 or i_z == par.Nz-1:\n",
    "            ax.plot(par.a_grid[I],ss.a[i_beta,i_z,I]-par.a_grid[I],label=f'z = {z:.2f}')\n",
    "\n",
    "    ax.set_xlabel('savings, $a_{t-1}$')\n",
    "    ax.set_ylabel('savings change, $a_{t}-a_{t-1}$')\n",
    "    ax.set_xlim(0,100)\n",
    "    ax.set_ylim(-3,1)\n",
    "\n",
    "    fig.tight_layout()\n",
    "    #fig.savefig(f'figs/c_func_{i_beta}.pdf')"
   ]
  },
  {
   "cell_type": "markdown",
   "metadata": {},
   "source": [
    "Find stationary equilibrium:"
   ]
  },
  {
   "cell_type": "code",
   "execution_count": 6,
   "metadata": {},
   "outputs": [
    {
     "name": "stdout",
     "output_type": "stream",
     "text": [
      "### step 1: broad search ###\n",
      "\n",
      "guess ss.K = 1.0000\n",
      "implied ss.rK = 0.2225\n",
      "implied ss.w0 = 0.2966\n",
      "implied ss.w1 = 0.5933\n",
      "household problem in ss solved in 0.6 secs [634 iterations]\n",
      "household problem in ss simulated in 0.1 secs [635 iterations]\n",
      "implied ss.A_hh = 297.6287\n",
      "clearing_A = -296.62874408\n",
      "\n",
      "guess ss.K = 2.0000\n",
      "implied ss.rK = 0.1428\n",
      "implied ss.w0 = 0.3807\n",
      "implied ss.w1 = 0.7614\n",
      "household problem in ss solved in 2.8 secs [3368 iterations]\n",
      "household problem in ss simulated in 0.1 secs [801 iterations]\n",
      "implied ss.A_hh = 381.7010\n",
      "clearing_A = -379.70101211\n",
      "\n",
      "guess ss.K = 3.0000\n",
      "implied ss.rK = 0.1101\n",
      "implied ss.w0 = 0.4405\n",
      "implied ss.w1 = 0.8811\n",
      "household problem in ss solved in 0.5 secs [619 iterations]\n",
      "household problem in ss simulated in 0.0 secs [473 iterations]\n",
      "implied ss.A_hh = 1.4252\n",
      "clearing_A =   1.57484366\n",
      "\n",
      "guess ss.K = 4.0000\n",
      "implied ss.rK = 0.0916\n",
      "implied ss.w0 = 0.4886\n",
      "implied ss.w1 = 0.9772\n",
      "household problem in ss solved in 0.3 secs [313 iterations]\n",
      "household problem in ss simulated in 0.0 secs [225 iterations]\n",
      "implied ss.A_hh = 0.2287\n",
      "clearing_A =   3.77126037\n",
      "\n",
      "guess ss.K = 5.0000\n",
      "implied ss.rK = 0.0794\n",
      "implied ss.w0 = 0.5295\n",
      "implied ss.w1 = 1.0589\n",
      "household problem in ss solved in 0.2 secs [236 iterations]\n",
      "household problem in ss simulated in 0.0 secs [158 iterations]\n",
      "implied ss.A_hh = 0.0684\n",
      "clearing_A =   4.93161400\n",
      "\n",
      "guess ss.K = 6.0000\n",
      "implied ss.rK = 0.0707\n",
      "implied ss.w0 = 0.5654\n",
      "implied ss.w1 = 1.1308\n",
      "household problem in ss solved in 0.2 secs [198 iterations]\n",
      "household problem in ss simulated in 0.0 secs [124 iterations]\n",
      "implied ss.A_hh = 0.0280\n",
      "clearing_A =   5.97202648\n",
      "\n",
      "guess ss.K = 7.0000\n",
      "implied ss.rK = 0.0640\n",
      "implied ss.w0 = 0.5977\n",
      "implied ss.w1 = 1.1953\n",
      "household problem in ss solved in 0.1 secs [176 iterations]\n",
      "household problem in ss simulated in 0.0 secs [105 iterations]\n",
      "implied ss.A_hh = 0.0129\n",
      "clearing_A =   6.98707680\n",
      "\n",
      "guess ss.K = 8.0000\n",
      "implied ss.rK = 0.0588\n",
      "implied ss.w0 = 0.6271\n",
      "implied ss.w1 = 1.2542\n",
      "household problem in ss solved in 0.1 secs [160 iterations]\n",
      "household problem in ss simulated in 0.0 secs [96 iterations]\n",
      "implied ss.A_hh = 0.0065\n",
      "clearing_A =   7.99349787\n",
      "\n",
      "guess ss.K = 9.0000\n",
      "implied ss.rK = 0.0545\n",
      "implied ss.w0 = 0.6542\n",
      "implied ss.w1 = 1.3085\n",
      "household problem in ss solved in 0.1 secs [149 iterations]\n",
      "household problem in ss simulated in 0.0 secs [85 iterations]\n",
      "implied ss.A_hh = 0.0037\n",
      "clearing_A =   8.99626858\n",
      "\n",
      "guess ss.K = 10.0000\n",
      "implied ss.rK = 0.0510\n",
      "implied ss.w0 = 0.6795\n",
      "implied ss.w1 = 1.3591\n",
      "household problem in ss solved in 0.1 secs [140 iterations]\n",
      "household problem in ss simulated in 0.0 secs [80 iterations]\n",
      "implied ss.A_hh = 0.0024\n",
      "clearing_A =   9.99758504\n",
      "\n",
      "### step 2: determine search bracket ###\n",
      "\n",
      "K in [  2.00000000,  3.00000000]\n",
      "\n",
      "### step 3: search ###\n",
      "\n",
      "  0: K_ss =   2.99586954 -> A-A_hh =   1.55549461\n",
      "  1: K_ss =   2.66517159 -> A-A_hh =  -1.61882101\n",
      "  2: K_ss =   2.83381922 -> A-A_hh =   0.55118478\n",
      "  3: K_ss =   2.76747282 -> A-A_hh =  -0.08195149\n",
      "  4: K_ss =   2.77606052 -> A-A_hh =   0.01140795\n",
      "  5: K_ss =   2.77501116 -> A-A_hh =   0.00021062\n",
      "  6: K_ss =   2.77499147 -> A-A_hh =  -0.00000001\n",
      "  7: K_ss =   2.77499147 -> A-A_hh =   0.00000000\n",
      "  8: K_ss =   2.77499147 -> A-A_hh =  -0.00000000\n",
      "\n",
      "K_ss =   2.77499147 [A-A_hh =   0.00000000]\n",
      "\n",
      "found steady state in 16.6 secs\n"
     ]
    }
   ],
   "source": [
    "model.find_ss(method='direct',do_print=True)"
   ]
  },
  {
   "cell_type": "code",
   "execution_count": 7,
   "metadata": {},
   "outputs": [
    {
     "name": "stdout",
     "output_type": "stream",
     "text": [
      "Gamma          : 1.0000\n",
      "K              : 2.7750\n",
      "L0             : 0.6667\n",
      "L1             : 0.3333\n",
      "rK             : 0.1158\n",
      "w0             : 0.4283\n",
      "w1             : 0.8567\n",
      "Y              : 0.8924\n",
      "phi0           : 1.0000\n",
      "phi1           : 2.0000\n",
      "A_hh           : 2.7750\n",
      "C_hh           : 1.0000\n",
      "L_hh           : 1.0000\n",
      "A              : 2.7750\n",
      "L0_hh          : nan\n",
      "L1_hh          : nan\n",
      "I              : 0.2775\n",
      "clearing_A     : 0.0000\n",
      "clearing_L0    : nan\n",
      "clearing_L1    : nan\n",
      "clearing_Y     : -0.3851\n"
     ]
    }
   ],
   "source": [
    "for varname in model.varlist:\n",
    "    print(f'{varname:15s}: {ss.__dict__[varname]:.4f}')"
   ]
  },
  {
   "cell_type": "code",
   "execution_count": null,
   "metadata": {},
   "outputs": [],
   "source": [
    "model.info()"
   ]
  },
  {
   "cell_type": "markdown",
   "metadata": {},
   "source": [
    "## 3. <a id='toc3_'></a>[Varying productivity](#toc0_)"
   ]
  },
  {
   "cell_type": "markdown",
   "metadata": {},
   "source": [
    "Choose to maximize average utility."
   ]
  },
  {
   "cell_type": "code",
   "execution_count": null,
   "metadata": {},
   "outputs": [],
   "source": [
    "def target(tau):\n",
    "    \n",
    "    model.find_ss(tau)\n",
    "    return -ss.U_hh\n",
    "\n",
    "res = optimize.minimize_scalar(target,bounds=(0.11,0.2),method='bounded',options={'disp':3})\n",
    "tau_max_U_hh = res.x\n",
    "max_U_hh = res.fun"
   ]
  },
  {
   "cell_type": "markdown",
   "metadata": {},
   "source": [
    "Look at different tax rates."
   ]
  },
  {
   "cell_type": "code",
   "execution_count": null,
   "metadata": {},
   "outputs": [],
   "source": [
    "taus = sorted([0.11,0.12,0.13,0.14,0.15]+[tau_max_U_hh])\n",
    "B = np.zeros(len(taus))\n",
    "pB = np.zeros(len(taus))\n",
    "U_hh = np.zeros(len(taus))\n",
    "\n",
    "for i,tau in enumerate(taus):\n",
    "    \n",
    "    model_ = model.copy()\n",
    "    model_.find_ss(tau=tau,do_print=False)\n",
    "    \n",
    "    print(f'{model_.ss.pB = :8.3f}')\n",
    "    print(f'{model_.ss.B = :8.3f}')\n",
    "    print(f'{model_.ss.U_hh = :12.8f}\\n')\n",
    "    \n",
    "    B[i] = model_.ss.B\n",
    "    pB[i] = model_.ss.pB\n",
    "    U_hh[i] = model_.ss.U_hh\n",
    "    "
   ]
  },
  {
   "cell_type": "code",
   "execution_count": null,
   "metadata": {},
   "outputs": [],
   "source": [
    "fig = plt.figure(figsize=(18,6/1.5),dpi=100)\n",
    "\n",
    "ax = fig.add_subplot(1,3,1)\n",
    "ax.set_title('bonds')\n",
    "ax.axvline(tau_max_U_hh,color='black')\n",
    "ax.plot(taus,B,'-o')\n",
    "ax.set_xlabel('$\\\\tau_{ss}$')\n",
    "\n",
    "ax = fig.add_subplot(1,3,2)\n",
    "ax.set_title('bond price')\n",
    "ax.axvline(tau_max_U_hh,color='black')\n",
    "ax.plot(taus,pB,'-o')\n",
    "ax.set_xlabel('$\\\\tau_{ss}$')\n",
    "\n",
    "ax = fig.add_subplot(1,3,3)\n",
    "ax.set_title('average  utility in ss')\n",
    "ax.axvline(tau_max_U_hh,color='black')\n",
    "ax.axhline(-max_U_hh,color='black')\n",
    "ax.plot(taus,U_hh,'-o')\n",
    "ax.set_xlabel('$\\\\tau_{ss}$')\n",
    "\n",
    "fig.tight_layout()"
   ]
  },
  {
   "cell_type": "markdown",
   "metadata": {},
   "source": [
    "**Insights:**\n",
    "\n",
    "1. Bonds increasing in tax rate\n",
    "2. Bond price decreasing in tax rate (higher return)\n",
    "3. Average utility is hump-shaped (benefit from bonds providing liquidity)"
   ]
  },
  {
   "cell_type": "markdown",
   "metadata": {},
   "source": [
    "**Note:** We can convert from *average utility* in steady state to *average value* (expected discounted utility) by:"
   ]
  },
  {
   "cell_type": "code",
   "execution_count": null,
   "metadata": {},
   "outputs": [],
   "source": [
    "V_hh_ss = np.sum([par.beta**t*ss.U_hh for t in range(par.T)])\n",
    "print(f'{V_hh_ss:.4f}')"
   ]
  },
  {
   "cell_type": "markdown",
   "metadata": {},
   "source": [
    "A *utilitarian social planner* would maximize *social welfare*, which can e.g. be average value."
   ]
  },
  {
   "cell_type": "markdown",
   "metadata": {},
   "source": [
    "## 4. <a id='toc4_'></a>[Transition path](#toc0_)"
   ]
  },
  {
   "cell_type": "code",
   "execution_count": null,
   "metadata": {},
   "outputs": [],
   "source": [
    "model.info(only_blocks=True)\n",
    "model.draw_DAG(figsize=(10,10))"
   ]
  },
  {
   "cell_type": "markdown",
   "metadata": {},
   "source": [
    "### 4.1. <a id='toc4_1_'></a>[Prepare](#toc0_)"
   ]
  },
  {
   "cell_type": "code",
   "execution_count": null,
   "metadata": {},
   "outputs": [],
   "source": [
    "model.find_ss(tau=tau_max_U_hh)"
   ]
  },
  {
   "cell_type": "code",
   "execution_count": null,
   "metadata": {},
   "outputs": [],
   "source": [
    "model.test_hh_path()"
   ]
  },
  {
   "cell_type": "code",
   "execution_count": null,
   "metadata": {},
   "outputs": [],
   "source": [
    "model.test_path()"
   ]
  },
  {
   "cell_type": "markdown",
   "metadata": {},
   "source": [
    "**Jacobians:**"
   ]
  },
  {
   "cell_type": "code",
   "execution_count": null,
   "metadata": {},
   "outputs": [],
   "source": [
    "model.compute_jacs()"
   ]
  },
  {
   "cell_type": "markdown",
   "metadata": {},
   "source": [
    "**Higher bond price:** Always less savings due to lower return.\n",
    "\n",
    "**Higher tax rate:**\n",
    "\n",
    "1. Lower savings when in effect due to lower income\n",
    "2. Higher savings when expected due to lower *future* income"
   ]
  },
  {
   "cell_type": "code",
   "execution_count": null,
   "metadata": {},
   "outputs": [],
   "source": [
    "fig = plt.figure(figsize=(12,len(model.inputs_hh_all)*4),dpi=100)\n",
    "\n",
    "i = 0\n",
    "for varname in model.inputs_hh:\n",
    "    \n",
    "    # a. savings\n",
    "    i += 1    \n",
    "    ax = fig.add_subplot(len(model.inputs_hh_all),2,i)\n",
    "    ax.set_title(f'savings, $a_t$, to {varname}')\n",
    "    for s in [0,50,150,250]:\n",
    "        jac_hh_var = model.jac_hh[('A_hh',varname)]\n",
    "        ax.plot(np.arange(par.T),jac_hh_var[:,s],label=f'shock at {s}')\n",
    "    \n",
    "    if i == 1:\n",
    "        ax.legend(frameon=True,bbox_to_anchor=(2.75,0.0))\n",
    "\n",
    "    # b. consumption\n",
    "    i += 1    \n",
    "    ax = fig.add_subplot(len(model.inputs_hh_all),2,i)\n",
    "    ax.set_title(f'consumption, $c_t$, to {varname}')\n",
    "    for s in [0,50,150,250]:\n",
    "        jac_hh_var = model.jac_hh[('C_hh',varname)]\n",
    "        ax.plot(np.arange(par.T),jac_hh_var[:,s],label=f'shock at {s}')"
   ]
  },
  {
   "cell_type": "markdown",
   "metadata": {},
   "source": [
    "### 4.2. <a id='toc4_2_'></a>[Find transition path](#toc0_)"
   ]
  },
  {
   "cell_type": "code",
   "execution_count": null,
   "metadata": {},
   "outputs": [],
   "source": [
    "jump = ss.G*0.01\n",
    "rho = 0.95\n",
    "dG = jump*rho**np.arange(par.T)"
   ]
  },
  {
   "cell_type": "code",
   "execution_count": null,
   "metadata": {},
   "outputs": [],
   "source": [
    "model.find_transition_path(shocks={'dG':dG},do_print=True) #important you can only call a variable defined as shock already\n",
    "path = model.path"
   ]
  },
  {
   "cell_type": "markdown",
   "metadata": {},
   "source": [
    "### 4.3. <a id='toc4_3_'></a>[Analyze](#toc0_)"
   ]
  },
  {
   "cell_type": "markdown",
   "metadata": {},
   "source": [
    "The government issues more bonds. Bond price fall and tax increases. Average utility falls."
   ]
  },
  {
   "cell_type": "code",
   "execution_count": null,
   "metadata": {},
   "outputs": [],
   "source": [
    "model.show_IRFs(varnames=['B','pB','tau','U_hh'],lvl_value=['U_hh'],ncols=2)"
   ]
  },
  {
   "cell_type": "markdown",
   "metadata": {},
   "source": [
    "Expected discounted utility falls."
   ]
  },
  {
   "cell_type": "code",
   "execution_count": null,
   "metadata": {},
   "outputs": [],
   "source": [
    "V_hh_ss = np.sum([par.beta**t*ss.U_hh for t in range(par.T)])\n",
    "V_hh = np.sum([par.beta**t*path.U_hh[t] for t in range(par.T)])\n",
    "print(f'{V_hh_ss = :.5f}')\n",
    "print(f'{V_hh = :.5f}')"
   ]
  },
  {
   "cell_type": "markdown",
   "metadata": {},
   "source": [
    "Initially savings increase both due to taxes (less future income) and higher return (lower bond price). Lower taxes reduce savings."
   ]
  },
  {
   "cell_type": "code",
   "execution_count": null,
   "metadata": {},
   "outputs": [],
   "source": [
    "T_max = 50\n",
    "\n",
    "fig = plt.figure(figsize=(6,4),dpi=100)\n",
    "ax = fig.add_subplot(1,1,1)\n",
    "    \n",
    "i_color = 0\n",
    "for use_inputs in [['tau'],['pB'],None,'all']:\n",
    "    \n",
    "    # a. compute\n",
    "    print(use_inputs)\n",
    "    path_alt = model.decompose_hh_path(do_print=True,use_inputs=use_inputs)\n",
    "    print('')\n",
    "    \n",
    "    # b. plot\n",
    "    if use_inputs is None:\n",
    "        label = 'no inputs'\n",
    "        ls = '--'\n",
    "        color = 'black'\n",
    "    elif use_inputs == 'all':\n",
    "        label = 'all inputs'\n",
    "        ls = '-'\n",
    "        color = 'black'\n",
    "    else:\n",
    "        label = f'only effect from {use_inputs[0]}'\n",
    "        ls = '-'\n",
    "        color = colors[i_color]\n",
    "        i_color += 1\n",
    "        \n",
    "    ax.plot((path_alt.A_hh[:50]/ss.A_hh-1)*100,ls=ls,color=color,label=label);\n",
    "\n",
    "ax.set_ylabel('% diff to s.s.')\n",
    "ax.legend(frameon=True,bbox_to_anchor=(1.01,0.99));"
   ]
  },
  {
   "cell_type": "markdown",
   "metadata": {},
   "source": [
    "Consumption inequality decreases. But small effect relative to the lower mean."
   ]
  },
  {
   "cell_type": "code",
   "execution_count": null,
   "metadata": {},
   "outputs": [],
   "source": [
    "mean_c_ss = np.sum(ss.D*ss.c)\n",
    "std_c_ss = np.sqrt(np.sum(ss.D*(ss.c-mean_c_ss)**2))   \n",
    "\n",
    "for t in range(20):\n",
    "\n",
    "    mean_c = np.sum(path.D[t]*path.c[t])\n",
    "    std_c = np.sqrt(np.sum(path.D[t]*(path.c[t]-mean_c)**2))   \n",
    "\n",
    "    print(f't = {t:2d}: {mean_c-mean_c_ss:7.4f}, {std_c-std_c_ss:7.4f}')"
   ]
  },
  {
   "cell_type": "markdown",
   "metadata": {},
   "source": [
    "## 5. <a id='toc5_'></a>[Extra: Optimal policy](#toc0_)"
   ]
  },
  {
   "cell_type": "markdown",
   "metadata": {},
   "source": [
    "**Questions:** Will a utiliarian planner always set the tax rate so it maximizes steady state social welfare?"
   ]
  },
  {
   "cell_type": "code",
   "execution_count": null,
   "metadata": {},
   "outputs": [],
   "source": [
    "for add in [-0.01,0.01]:\n",
    "\n",
    "    # a. initial steady state\n",
    "    model_tau_alt = model.copy()\n",
    "    model_tau_alt.find_ss(tau=tau_max_U_hh+add)\n",
    "\n",
    "    # b. transition to new steady state \n",
    "    model.find_transition_path(shocks=[],ini=model_tau_alt.ss.__dict__,do_print=False)\n",
    "    path = model.path\n",
    "\n",
    "    # b. change in expected discounted utility\n",
    "    V_hh_ss = np.sum([par.beta**t*model_tau_alt.ss.U_hh for t in range(par.T)])\n",
    "    V_hh = np.sum([par.beta**t*path.U_hh[t] for t in range(par.T)])\n",
    "    print(f'tau {tau_max_U_hh+add:.3} -> {tau_max_U_hh:.3f}: {V_hh-V_hh_ss = :8.5f}')\n"
   ]
  },
  {
   "cell_type": "markdown",
   "metadata": {},
   "source": [
    "If the initial tax rate is low, the transition is beneficial. Social welfare increases.\n",
    "\n",
    "If the initial tax rate is high, the transition is not beneficial. Social welfare increase.\n",
    "\n",
    "**Insight:** Optimal policy needs to account for the transition.\n",
    "\n",
    "**Questions:** Could there ne another transition, which makes the policy beneficial?\n"
   ]
  }
 ],
 "metadata": {
  "kernelspec": {
   "display_name": "Python 3 (ipykernel)",
   "language": "python",
   "name": "python3"
  },
  "language_info": {
   "codemirror_mode": {
    "name": "ipython",
    "version": 3
   },
   "file_extension": ".py",
   "mimetype": "text/x-python",
   "name": "python",
   "nbconvert_exporter": "python",
   "pygments_lexer": "ipython3",
   "version": "3.11.5"
  },
  "toc-autonumbering": true
 },
 "nbformat": 4,
 "nbformat_minor": 4
}
