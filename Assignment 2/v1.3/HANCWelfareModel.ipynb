{
 "cells": [
  {
   "cell_type": "markdown",
   "metadata": {},
   "source": [
    "# HANC with a Welfare State"
   ]
  },
  {
   "cell_type": "code",
   "execution_count": null,
   "metadata": {},
   "outputs": [],
   "source": [
    "%load_ext autoreload\n",
    "%autoreload 2\n",
    "\n",
    "import time\n",
    "import pickle\n",
    "import numpy as np\n",
    "from scipy import optimize\n",
    "from consav.misc import elapsed\n",
    "\n",
    "import sys\n",
    "import os\n",
    "original_stdout = sys.stdout\n",
    "\n",
    "import matplotlib.pyplot as plt   \n",
    "colors = plt.rcParams['axes.prop_cycle'].by_key()['color']\n",
    "plt.rcParams.update({\"axes.grid\" : True, \"grid.color\": \"black\", \"grid.alpha\":\"0.25\", \"grid.linestyle\": \"--\"})\n",
    "plt.rcParams.update({'font.size': 14})\n",
    "\n",
    "from HANCWelfareModel import HANCWelfareModelClass\n",
    "from steady_state import obj_ss"
   ]
  },
  {
   "cell_type": "markdown",
   "metadata": {},
   "source": [
    "## Model without a Governement"
   ]
  },
  {
   "cell_type": "markdown",
   "metadata": {},
   "source": [
    "I import the model and draw the DAG"
   ]
  },
  {
   "cell_type": "code",
   "execution_count": null,
   "metadata": {},
   "outputs": [],
   "source": [
    "model = HANCWelfareModelClass(name='baseline')\n",
    "par = model.par\n",
    "ss = model.ss"
   ]
  },
  {
   "cell_type": "code",
   "execution_count": null,
   "metadata": {},
   "outputs": [],
   "source": [
    "model.info(only_blocks=True)\n",
    "model.draw_DAG()"
   ]
  },
  {
   "cell_type": "markdown",
   "metadata": {},
   "source": [
    "I set all the steady values for the household problem manually at ad hoc values and now solve and simulate:"
   ]
  },
  {
   "cell_type": "code",
   "execution_count": null,
   "metadata": {},
   "outputs": [],
   "source": [
    "ss.r = 0.02*(1-0.1)\n",
    "ss.wt = 1.00*(1-0.3)\n",
    "ss.w = ss.wt/(1-par.tau_ss)\n",
    "ss.tau = par.tau_ss\n",
    "ss.chi = par.chi_ss\n",
    "ss.Gamma_Y = par.Gamma_Y"
   ]
  },
  {
   "cell_type": "code",
   "execution_count": null,
   "metadata": {},
   "outputs": [],
   "source": [
    "model.solve_hh_ss(do_print=True)\n",
    "model.simulate_hh_ss(do_print=True)"
   ]
  },
  {
   "cell_type": "markdown",
   "metadata": {},
   "source": [
    "And check whether the results make sort of sense:"
   ]
  },
  {
   "cell_type": "code",
   "execution_count": null,
   "metadata": {},
   "outputs": [],
   "source": [
    "print(f'{model.ss.A_hh = :.2f}')\n",
    "print(f'{model.ss.L_hh = :.2f}')\n",
    "print(f'{model.ss.C_hh = :.2f}')"
   ]
  },
  {
   "cell_type": "markdown",
   "metadata": {},
   "source": [
    "The results seem to make sense and thus I will now solve for the steady state in the model with no Gorvernment."
   ]
  },
  {
   "cell_type": "code",
   "execution_count": null,
   "metadata": {},
   "outputs": [],
   "source": [
    "#setting values to zero to remove government\n",
    "model.par.tau_ss = 0.0\n",
    "model.par.chi_ss = 0.0\n",
    "\n",
    "#simulating the steady state\n",
    "model.find_ss(do_print=True)"
   ]
  },
  {
   "cell_type": "markdown",
   "metadata": {},
   "source": [
    "I see we find a steady state where we see there is no government (ss.G=ss.Lg=0). Testing the stationary equilibrium I find"
   ]
  },
  {
   "cell_type": "code",
   "execution_count": null,
   "metadata": {},
   "outputs": [],
   "source": [
    "model.test_path()"
   ]
  },
  {
   "cell_type": "code",
   "execution_count": null,
   "metadata": {},
   "outputs": [],
   "source": [
    "model.test_hh_path()"
   ]
  },
  {
   "cell_type": "markdown",
   "metadata": {},
   "source": [
    "And we see that the steady state is indeed a stationary equilibrium.\n",
    "\n",
    "I can therefore calculate the expected utility of the household in the steady state:"
   ]
  },
  {
   "cell_type": "code",
   "execution_count": null,
   "metadata": {},
   "outputs": [],
   "source": [
    "util_no_govern = np.sum([par.beta**t * ((np.sum((ss.u+(ss.G+par.S)**(1-par.omega)/(1-par.omega)) * ss.D / (np.sum(ss.D))))) for t in range(par.T)])\n",
    "print(f'{util_no_govern = :.2f}')"
   ]
  },
  {
   "cell_type": "markdown",
   "metadata": {},
   "source": [
    "We see that the expected utility is very negavtive in the case of no Governement in the model. This is because the household is not insured against the risk of unemployment and thus the household is very exposed to the risk of unemployment. This is also why the household chooses to work a lot in the steady state."
   ]
  },
  {
   "cell_type": "markdown",
   "metadata": {},
   "source": [
    "## Optimal welfare policy with only taxes on labour income"
   ]
  },
  {
   "cell_type": "markdown",
   "metadata": {},
   "source": [
    "I start by creating a new instance of our baseline model"
   ]
  },
  {
   "cell_type": "code",
   "execution_count": null,
   "metadata": {},
   "outputs": [],
   "source": [
    "modelI = model.copy()"
   ]
  },
  {
   "cell_type": "code",
   "execution_count": null,
   "metadata": {},
   "outputs": [],
   "source": [
    "optI = modelI.optimize_social_welfare(tau_guess=0.5,do_print=True)"
   ]
  },
  {
   "cell_type": "markdown",
   "metadata": {},
   "source": [
    "To find the optimal policy with only a tax on labour income, $\\tau$, I first define the objective function of the planner:"
   ]
  },
  {
   "cell_type": "markdown",
   "metadata": {},
   "source": [
    "Next I use a scalar minimizer to find the optimal tax rate on labour income:"
   ]
  },
  {
   "cell_type": "markdown",
   "metadata": {},
   "source": [
    "Thus I find the optimal tax on labour as $\\tau=65.51\\%$.\n",
    "\n",
    "Adding this to the model and solving for the steady state I find:"
   ]
  },
  {
   "cell_type": "markdown",
   "metadata": {},
   "source": [
    "The Goverment spending output ratio can therefore be calculated as:"
   ]
  },
  {
   "cell_type": "code",
   "execution_count": null,
   "metadata": {},
   "outputs": [],
   "source": [
    "print(f'{modelI.ss.G/modelI.ss.Y = :.4f}')"
   ]
  },
  {
   "cell_type": "markdown",
   "metadata": {},
   "source": [
    "## Optimal welfare policy with taxes on labour income and lumpsum transfers"
   ]
  },
  {
   "cell_type": "markdown",
   "metadata": {},
   "source": [
    "I again create a new instance of the baseline model"
   ]
  },
  {
   "cell_type": "code",
   "execution_count": null,
   "metadata": {},
   "outputs": [],
   "source": [
    "modelII = model.copy()"
   ]
  },
  {
   "cell_type": "markdown",
   "metadata": {},
   "source": [
    "I run the optimize_social_welfare function now guessing on both $\\tau$ and $\\chi$ using the previous results as initial guesses:"
   ]
  },
  {
   "cell_type": "code",
   "execution_count": null,
   "metadata": {},
   "outputs": [],
   "source": [
    "optII = modelII.optimize_social_welfare(tau_guess=optI[0],chi_guess=optI[1],do_print=True)"
   ]
  },
  {
   "cell_type": "markdown",
   "metadata": {},
   "source": [
    "Thus the optimal taxrate in this case is $\\tau = 47.66\\%$ and the optimal lumpsum transfer is $\\chi = -0.2181$ implying a lumpsum tax."
   ]
  },
  {
   "cell_type": "markdown",
   "metadata": {},
   "source": [
    "The Goverment spending output ratio can therefore be calculated as:"
   ]
  },
  {
   "cell_type": "code",
   "execution_count": null,
   "metadata": {},
   "outputs": [],
   "source": [
    "ratio = modelII.ss.G/modelII.ss.Y\n",
    "print(f'G_ss/Y_ss = {ratio :.4f}')"
   ]
  },
  {
   "cell_type": "markdown",
   "metadata": {},
   "source": [
    "## Model with increased TFP and Government"
   ]
  },
  {
   "cell_type": "markdown",
   "metadata": {},
   "source": [
    "I once again create a new instance of the model and repeat the same steps as before but with $\\Gamma^Y = 1.1$:"
   ]
  },
  {
   "cell_type": "code",
   "execution_count": null,
   "metadata": {},
   "outputs": [],
   "source": [
    "modelIII = model.copy()\n",
    "\n",
    "modelIII.par.Gamma_Y = 1.1"
   ]
  },
  {
   "cell_type": "markdown",
   "metadata": {},
   "source": [
    "Again I run the optimize_social_welfare function guessing on both $\\tau$ and $\\chi$ using the previous results as initial guesses:"
   ]
  },
  {
   "cell_type": "code",
   "execution_count": null,
   "metadata": {},
   "outputs": [],
   "source": [
    "optIII = modelIII.optimize_social_welfare(tau_guess=optII[0],chi_guess=optII[1],do_print=True)"
   ]
  },
  {
   "cell_type": "code",
   "execution_count": null,
   "metadata": {},
   "outputs": [],
   "source": [
    "ratio = modelIII.ss.G/modelIII.ss.Y\n",
    "print(f'G_ss/Y_ss = {ratio :.4f}')"
   ]
  },
  {
   "cell_type": "markdown",
   "metadata": {},
   "source": [
    "## Transition to new steady state"
   ]
  },
  {
   "cell_type": "markdown",
   "metadata": {},
   "source": [
    "To find the transition to the new steady state I first compute the jabobian of the model:"
   ]
  },
  {
   "cell_type": "code",
   "execution_count": null,
   "metadata": {},
   "outputs": [],
   "source": [
    "modelIII.compute_jacs(do_print=True)"
   ]
  },
  {
   "cell_type": "markdown",
   "metadata": {},
   "source": [
    "Next I define the initial values for where the economy starts:"
   ]
  },
  {
   "cell_type": "code",
   "execution_count": null,
   "metadata": {},
   "outputs": [],
   "source": [
    "ini = vars(modelII.ss)"
   ]
  },
  {
   "cell_type": "markdown",
   "metadata": {},
   "source": [
    "To evaluate how the tranistion should be I will test out 4 different scenarios:\n",
    "Common for all scenarios is that the governement observes the change in TFP in period 0 and will not adjust the tax rate and lumpsum transfer to the optimal values in period before period 1.\n",
    "\n",
    "\n",
    "- In the baseline scenario the government jumps straight to the optimal tax rate and lumpsum transfer in period 1.\n",
    "- In the second scenario the government will adjust the tax rate linearly from the initial tax rate to the optimal taxe rate in over an unspecified number of periods.\n",
    "- In the third scenario the government will reduce the gap between the initial tax rate and the optimal tax rate by an unkonwn fraction in each period thereby the change in the tax rate will be decreasing over time.\n",
    "- In the fourth scenario the government will increase the taxes from the initial tax rate to the optimal tax rate by an unknown fraction in each period thereby the change in the tax rate will be increasing over time."
   ]
  },
  {
   "cell_type": "markdown",
   "metadata": {},
   "source": [
    "I start by evaluating the baseline scenario:"
   ]
  },
  {
   "cell_type": "code",
   "execution_count": null,
   "metadata": {},
   "outputs": [],
   "source": [
    "# Creating arrays for the shocks\n",
    "dtau = np.zeros(par.T)\n",
    "dchi = np.zeros(par.T)\n",
    "\n",
    "# Setting shock values\n",
    "dtau[0:1] = modelII.ss.tau - modelIII.ss.tau\n",
    "dchi[0:1] = modelII.ss.chi - modelIII.ss.chi\n",
    "\n",
    "# Creating dictionary for the shocks\n",
    "shocks = {'dtau': dtau,\n",
    "          'dchi': dchi}\n",
    "\n",
    "modelIII.find_transition_path(shocks=shocks,ini=ini,do_print=False)\n",
    "v_shock = np.sum([modelIII.par.beta**t * np.sum((modelIII.path.u[t]+(modelIII.path.G[t]+modelIII.par.S)**(1-modelIII.par.omega)/(1-modelIII.par.omega)) * modelIII.path.D[t] / (np.sum(modelIII.path.D[t]))) for t in range(modelIII.par.T)])\n",
    "print(v_shock)"
   ]
  },
  {
   "cell_type": "markdown",
   "metadata": {},
   "source": [
    "next I define an integer minimizer to find the optimal number of periods it takes for the economy to reach the new steady state in the second scenario and evaluate the results:"
   ]
  },
  {
   "cell_type": "code",
   "execution_count": null,
   "metadata": {},
   "outputs": [],
   "source": [
    "def int_minimize(max_int, step_size=10,do_print=False,print_results=True):\n",
    "    \n",
    "    if do_print:\n",
    "        print_results = True\n",
    "    t0 = time.time()\n",
    "\n",
    "    # Defining the objective function\n",
    "    def obj_lin(len):\n",
    "        #a. Creating arrays for the shocks\n",
    "        dtau = np.zeros(par.T)\n",
    "        dchi = np.zeros(par.T)\n",
    "\n",
    "        #b. Assuming government cannot adjust the tax rate in the first period but must observe the shock\n",
    "        dtau[0:1] = modelII.ss.tau - modelIII.ss.tau\n",
    "        dchi[0:1] = modelII.ss.chi - modelIII.ss.chi\n",
    "\n",
    "        #c. Setting the shock values for the remaining periods\n",
    "        for i in range(1,len+1):\n",
    "            dtau[i] = dtau[i-1] + (modelIII.ss.tau-modelII.ss.tau)/len\n",
    "            dchi[i] = dchi[i-1] + (modelIII.ss.chi-modelII.ss.chi)/len\n",
    "\n",
    "        #d. Creating dictionary for the shocks\n",
    "        shocks = {'dtau': dtau,\n",
    "                'dchi': dchi}        \n",
    "        \n",
    "        #e. finding the transition path\n",
    "        sys.stdout = open(os.devnull, 'w')\n",
    "        modelIII.find_transition_path(shocks=shocks,ini=ini,do_print=False)\n",
    "        sys.stdout = original_stdout\n",
    "        \n",
    "        #f. Calculating the expected utility\n",
    "        val = - np.sum([modelIII.par.beta**t * np.sum((modelIII.path.u[t]+(modelIII.path.G[t]+modelIII.par.S)**(1-modelIII.par.omega)/(1-modelIII.par.omega)) * modelIII.path.D[t] / (np.sum(modelIII.path.D[t]))) for t in range(modelIII.par.T)])\n",
    "        \n",
    "        return val\n",
    "    \n",
    "    # Rough search\n",
    "    best_x = 0\n",
    "    if do_print:\n",
    "        print(f'Starting in x = {best_x}...', end='')\n",
    "    best_val = obj_lin(best_x)\n",
    "    if do_print:\n",
    "        print(f'Value = {best_val:.5f}')\n",
    "    for x in range(step_size, max_int + 1, step_size):\n",
    "        if do_print:\n",
    "            print(f'Checking x = {x}...', end='')\n",
    "        val = obj_lin(x)\n",
    "        if do_print:\n",
    "            print(f'Value = {val:.5f}')\n",
    "\n",
    "        if val < best_val:\n",
    "            best_x = x\n",
    "            best_val = val\n",
    "\n",
    "    # Fine search\n",
    "    start_x = max(0, best_x - step_size + 1)\n",
    "    end_x = min(max_int, best_x + step_size - 1)\n",
    "    if do_print:\n",
    "        print(f'{best_x} Identified as best in rough search. Starting fine search from {start_x} to {end_x}...')\n",
    "    for x in range(start_x, end_x + 1):\n",
    "        if do_print:\n",
    "            print(f'Checking x = {x}...', end='')\n",
    "        val = obj_lin(x)\n",
    "        if do_print:\n",
    "            print(f'Value = {val:.5f}')\n",
    "        if val < best_val:\n",
    "            best_x = x\n",
    "            best_val = val\n",
    "    \n",
    "    if print_results:\n",
    "        print(f'Best x = {best_x} with expected utility of = {-best_val:.5f}')\n",
    "        print(f'Found in: {elapsed(t0)}')\n",
    "    return best_x, best_val\n",
    "\n",
    "# def obj_nonlin_decrease(decr):\n",
    "#     #a. Creating arrays for the shocks\n",
    "#     dtau = np.zeros(par.T)\n",
    "#     dchi = np.zeros(par.T)\n",
    "\n",
    "#     #b. Assuming government cannot adjust the tax rate in the first period but must observe the shock\n",
    "#     dtau[0:1] = modelII.ss.tau - modelIII.ss.tau\n",
    "#     dchi[0:1] = modelII.ss.chi - modelIII.ss.chi\n",
    "    \n",
    "#     #c. Setting the shock values for the remaining periods\n",
    "#     for i in range(1,par.T):\n",
    "#         dtau[i] = dtau[i-1]*decr\n",
    "#         dchi[i] = dchi[i-1]*decr\n",
    "    \n",
    "#     #d. Creating dictionary for the shocks\n",
    "#     shocks = {'dtau': dtau,\n",
    "#             'dchi': dchi}        \n",
    "    \n",
    "#     #e. finding the transition path\n",
    "#     sys.stdout = open(os.devnull, 'w')\n",
    "#     modelIII.find_transition_path(shocks=shocks,ini=ini,do_print=False)\n",
    "#     sys.stdout = original_stdout\n",
    "\n",
    "#     #f. Calculating the expected utility\n",
    "#     val = - np.sum([modelIII.par.beta**t * np.sum((modelIII.path.u[t]+(modelIII.path.G[t]+modelIII.par.S)**(1-modelIII.par.omega)/(1-modelIII.par.omega)) * modelIII.path.D[t] / (np.sum(modelIII.path.D[t]))) for t in range(modelIII.par.T)])\n",
    "    \n",
    "#     return val\n",
    "\n",
    "# def obj_nonlin_increase(incr):\n",
    "#     #a. Creating arrays for the shocks\n",
    "#     dtau = np.zeros(par.T)\n",
    "#     dchi = np.zeros(par.T)\n",
    "\n",
    "#     #b. Assuming government cannot adjust the tax rate in the first period but must observe the shock\n",
    "#     dtau[0:1] = modelII.ss.tau - modelIII.ss.tau\n",
    "#     dchi[0:1] = modelII.ss.chi - modelIII.ss.chi\n",
    "\n",
    "#     #c. Setting the shock values for the remaining periods\n",
    "#     for i in range(1,par.T):\n",
    "#         if np.sign(dtau[i-1]) == np.sign((modelIII.ss.tau+dtau[i-1])*incr - modelIII.ss.tau):\n",
    "#             dtau[i] = (modelIII.ss.tau+dtau[i-1])*incr - modelIII.ss.tau\n",
    "        \n",
    "#         if np.sign(dchi[i-1]) == np.sign((modelIII.ss.chi+dchi[i-1])*incr - modelIII.ss.chi):\n",
    "#             dchi[i] = (modelIII.ss.chi+dchi[i-1])*incr - modelIII.ss.chi\n",
    "    \n",
    "#     #d. Creating dictionary for the shocks\n",
    "#     shocks = {'dtau': dtau,\n",
    "#             'dchi': dchi}        \n",
    "    \n",
    "#     #e. finding the transition path\n",
    "#     sys.stdout = open(os.devnull, 'w')\n",
    "#     modelIII.find_transition_path(shocks=shocks,ini=ini,do_print=False)\n",
    "#     sys.stdout = original_stdout\n",
    "    \n",
    "#     #f. Calculating the expected utility\n",
    "#     val = - np.sum([modelIII.par.beta**t * np.sum((modelIII.path.u[t]+(modelIII.path.G[t]+modelIII.par.S)**(1-modelIII.par.omega)/(1-modelIII.par.omega)) * modelIII.path.D[t] / (np.sum(modelIII.path.D[t]))) for t in range(modelIII.par.T)])\n",
    "    \n",
    "#     return val"
   ]
  },
  {
   "cell_type": "code",
   "execution_count": null,
   "metadata": {},
   "outputs": [],
   "source": [
    "opt_lin = int_minimize(100, step_size=10,print_results=True)"
   ]
  },
  {
   "cell_type": "code",
   "execution_count": null,
   "metadata": {},
   "outputs": [],
   "source": [
    "def obj_nonlin_decrease_(decr_tau,decr_chi):\n",
    "    #a. Creating arrays for the shocks\n",
    "    dtau = np.zeros(par.T)\n",
    "    dchi = np.zeros(par.T)\n",
    "\n",
    "    #b. Assuming government cannot adjust the tax rate in the first period but must observe the shock\n",
    "    dtau[0:1] = modelII.ss.tau - modelIII.ss.tau\n",
    "    dchi[0:1] = modelII.ss.chi - modelIII.ss.chi\n",
    "    \n",
    "    #c. Setting the shock values for the remaining periods\n",
    "    for i in range(1,par.T):\n",
    "        dtau[i] = dtau[i-1]*decr_tau\n",
    "        dchi[i] = dchi[i-1]*decr_chi\n",
    "    \n",
    "    #d. Creating dictionary for the shocks\n",
    "    shocks = {'dtau': dtau,\n",
    "            'dchi': dchi}        \n",
    "    \n",
    "    #e. finding the transition path\n",
    "    sys.stdout = open(os.devnull, 'w')\n",
    "    modelIII.find_transition_path(shocks=shocks,ini=ini,do_print=False)\n",
    "    sys.stdout = original_stdout\n",
    "\n",
    "    #f. Calculating the expected utility\n",
    "    val = - np.sum([modelIII.par.beta**t * np.sum((modelIII.path.u[t]+(modelIII.path.G[t]+modelIII.par.S)**(1-modelIII.par.omega)/(1-modelIII.par.omega)) * modelIII.path.D[t] / (np.sum(modelIII.path.D[t]))) for t in range(modelIII.par.T)])\n",
    "    \n",
    "    return val"
   ]
  },
  {
   "cell_type": "code",
   "execution_count": null,
   "metadata": {},
   "outputs": [],
   "source": [
    "def obj_nonlin_increase_(incr_tau,incr_chi):\n",
    "    #a. Creating arrays for the shocks\n",
    "    dtau = np.zeros(par.T)\n",
    "    dchi = np.zeros(par.T)\n",
    "\n",
    "    #b. Assuming government cannot adjust the tax rate in the first period but must observe the shock\n",
    "    dtau[0:1] = modelII.ss.tau - modelIII.ss.tau\n",
    "    dchi[0:1] = modelII.ss.chi - modelIII.ss.chi\n",
    "\n",
    "    #c. Setting the shock values for the remaining periods\n",
    "    for i in range(1,par.T):\n",
    "        if np.sign(dtau[i-1]) == np.sign((modelIII.ss.tau+dtau[i-1])*incr_tau - modelIII.ss.tau):\n",
    "            dtau[i] = (modelIII.ss.tau+dtau[i-1])*incr_tau - modelIII.ss.tau\n",
    "        \n",
    "        if np.sign(dchi[i-1]) == np.sign((modelIII.ss.chi+dchi[i-1])*incr_chi - modelIII.ss.chi):\n",
    "            dchi[i] = (modelIII.ss.chi+dchi[i-1])*incr_chi - modelIII.ss.chi\n",
    "    \n",
    "    #d. Creating dictionary for the shocks\n",
    "    shocks = {'dtau': dtau,\n",
    "            'dchi': dchi}        \n",
    "    \n",
    "    #e. finding the transition path\n",
    "    sys.stdout = open(os.devnull, 'w')\n",
    "    modelIII.find_transition_path(shocks=shocks,ini=ini,do_print=False)\n",
    "    sys.stdout = original_stdout\n",
    "    \n",
    "    #f. Calculating the expected utility\n",
    "    val = - np.sum([modelIII.par.beta**t * np.sum((modelIII.path.u[t]+(modelIII.path.G[t]+modelIII.par.S)**(1-modelIII.par.omega)/(1-modelIII.par.omega)) * modelIII.path.D[t] / (np.sum(modelIII.path.D[t]))) for t in range(modelIII.par.T)])\n",
    "    \n",
    "    return val"
   ]
  },
  {
   "cell_type": "code",
   "execution_count": null,
   "metadata": {},
   "outputs": [],
   "source": [
    "opt_nonlin_decrease_ = optimize.minimize(lambda x: obj_nonlin_decrease_(x[0],x[1]), x0=[0.5,0.5], bounds=((0.0,1.0),(0.0,1.0)), method='Nelder-Mead')\n",
    "print(f'tau = {opt_nonlin_decrease_.x[0]}')\n",
    "print(f'chi = {opt_nonlin_decrease_.x[1]}')\n",
    "print(f'Expected utility = {-opt_nonlin_decrease_.fun:.5f}')"
   ]
  },
  {
   "cell_type": "code",
   "execution_count": null,
   "metadata": {},
   "outputs": [],
   "source": [
    "# opt_nonlin_decrease = optimize.minimize_scalar(obj_nonlin_decrease, bounds=(0.0,1.0), method='bounded')\n",
    "# print(opt_nonlin_decrease)"
   ]
  },
  {
   "cell_type": "code",
   "execution_count": null,
   "metadata": {},
   "outputs": [],
   "source": [
    "# opt_nonlin_increase = optimize.minimize_scalar(obj_nonlin_increase, bounds=(1.0,max(modelIII.ss.tau/modelII.ss.tau,modelIII.ss.chi/modelII.ss.chi)), method='bounded')\n",
    "# print(opt_nonlin_increase)"
   ]
  },
  {
   "cell_type": "code",
   "execution_count": null,
   "metadata": {},
   "outputs": [],
   "source": [
    "opt_nonlin_increase_ = optimize.minimize(lambda x: obj_nonlin_increase_(x[0],x[1]), x0=(1.0,1.0), bounds=((1.0,modelIII.ss.tau/modelII.ss.tau),(1.0,modelIII.ss.chi/modelII.ss.chi)),  method='L-BFGS-B')\n",
    "print(f'tau increase = {opt_nonlin_increase_.x[0]}')\n",
    "print(f'chi decrease = {opt_nonlin_increase_.x[1]}')\n",
    "print(f'Expected utility = {-opt_nonlin_increase_.fun:.5f}')"
   ]
  },
  {
   "cell_type": "code",
   "execution_count": null,
   "metadata": {},
   "outputs": [],
   "source": [
    "paths = ['Y','L','Lg','L_hh','K','G','C_hh','U_hh','rK','w','wt']\n",
    "modelIII.show_IRFs(paths,ncols=4,T_max=100,abs_diff=['tau','chi'])"
   ]
  },
  {
   "cell_type": "code",
   "execution_count": null,
   "metadata": {},
   "outputs": [],
   "source": [
    "def plot_model_results(models):\n",
    "    fig, ax = plt.subplots(figsize=(12,4), dpi=100)\n",
    "\n",
    "    # b. assets\n",
    "    ax.set_title('Savings Comparison')\n",
    "\n",
    "    for model in models:\n",
    "        y = np.insert(np.cumsum(np.sum(model.ss.D, axis=(0,1))), 0, 0.0)\n",
    "        label = f'tau={model.ss.tau:.3f}, chi={model.ss.chi:.3f}'\n",
    "        ax.plot(np.insert(model.par.a_grid, 0, model.par.a_grid[0]), y/y[-1], label=label)\n",
    "\n",
    "    ax.set_xlabel('assets, $a_{t}$')\n",
    "    ax.set_ylabel('CDF')\n",
    "    ax.set_xscale('symlog')\n",
    "    ax.legend(loc='lower right')\n",
    "\n",
    "# Call the function with all models\n",
    "plot_model_results([model, modelI, modelII, modelIII])"
   ]
  },
  {
   "cell_type": "code",
   "execution_count": null,
   "metadata": {},
   "outputs": [],
   "source": [
    "#vars(modelIII.ss).keys()"
   ]
  }
 ],
 "metadata": {
  "kernelspec": {
   "display_name": "base",
   "language": "python",
   "name": "python3"
  },
  "language_info": {
   "codemirror_mode": {
    "name": "ipython",
    "version": 3
   },
   "file_extension": ".py",
   "mimetype": "text/x-python",
   "name": "python",
   "nbconvert_exporter": "python",
   "pygments_lexer": "ipython3",
   "version": "3.11.5"
  },
  "toc-autonumbering": true,
  "vscode": {
   "interpreter": {
    "hash": "47ef90cdf3004d3f859f1fb202523c65c07ba7c22eefd261b181f4744e2d0403"
   }
  }
 },
 "nbformat": 4,
 "nbformat_minor": 4
}
